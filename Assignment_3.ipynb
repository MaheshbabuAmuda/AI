{
  "nbformat": 4,
  "nbformat_minor": 0,
  "metadata": {
    "colab": {
      "name": "Assignment-3.ipynb.",
      "provenance": [],
      "collapsed_sections": [],
      "authorship_tag": "ABX9TyPDfRHfc8OpMHJcL+2ZMH2U",
      "include_colab_link": true
    },
    "kernelspec": {
      "name": "python3",
      "display_name": "Python 3"
    },
    "language_info": {
      "name": "python"
    }
  },
  "cells": [
    {
      "cell_type": "markdown",
      "metadata": {
        "id": "view-in-github",
        "colab_type": "text"
      },
      "source": [
        "<a href=\"https://colab.research.google.com/github/MaheshbabuAmuda/AI/blob/main/Assignment_3.ipynb\" target=\"_parent\"><img src=\"https://colab.research.google.com/assets/colab-badge.svg\" alt=\"Open In Colab\"/></a>"
      ]
    },
    {
      "cell_type": "markdown",
      "metadata": {
        "id": "ragAnl1aSzhT"
      },
      "source": [
        "#Assignment-3\n",
        "\n",
        "<h4> Finding global minimum of the given function <h4> ${f(x, y) = 3x^2 + 5e^{-y} + 10}$ </h4> <h4> and finding the optimal solution using <b>Gradient Descent Algorithim</b> </h4>"
      ]
    },
    {
      "cell_type": "markdown",
      "metadata": {
        "id": "4eccaNWjdMhJ"
      },
      "source": [
        "#MANUAL CALCULATIONS\n",
        "\n",
        "![MANUAL CALCULATIONS](https://raw.githubusercontent.com/MaheshbabuAmuda/AI/main/Assignment_3_Manual%20calculations..jpg)\n",
        "\n",
        "\n"
      ]
    },
    {
      "cell_type": "code",
      "metadata": {
        "id": "qER3fmywi5hy",
        "colab": {
          "base_uri": "https://localhost:8080/"
        },
        "outputId": "ad2d07bf-4845-4b1c-9769-02d0dfbaeeea"
      },
      "source": [
        "import numpy as np\n",
        "from math import exp\n",
        "\n",
        "x0=np.random.uniform(0,10)  # For random x values in range 0 to 10 .\n",
        "y0=np.random.uniform(0,10)  # For random Y values in range 0 to 10 .\n",
        "eta = 0.04\n",
        "iter_max = 1000              # Iterations are limited to 1000.\n",
        "steps = 0                    # Starting step\n",
        "pre_step_size_x0= 1\n",
        "pre_step_size_y0= 1\n",
        "\n",
        "print(f\"\"\"\n",
        "initial values of x and y are:\n",
        "x = {x0}\n",
        "y = {y0}\n",
        "\"\"\")                              \n",
        "\n",
        "def function(x, y):\n",
        "    return 3*x**2 + 5*exp(-y) + 10\n",
        "\n",
        "def grad_x(x):\n",
        "    return 6*x               # gradient of the function w.r.to.x\n",
        "\n",
        "def grad_y(y):\n",
        "    return -5*exp(-y)        # gradient of the function w.r.to.x\n",
        "\n",
        "\n",
        "while max(abs(pre_step_size_x0),abs(pre_step_size_y0))>0.1 and steps<iter_max:\n",
        "  previous_x = x0\n",
        "  previous_y = y0\n",
        "  x0 = x0 - eta * grad_x(previous_x)\n",
        "  y0 = y0 - eta * grad_y(previous_y) \n",
        "  pre_step_size_x0 = abs(previous_x)\n",
        "  pre_step_size_y0 = abs(previous_y)\n",
        "  steps += 1\n",
        "\n",
        "print(f\"\\nThe local minimum point/ global minimum occurs at:\\nx = {round(x0)}\\ny = {round(y0)}\\n\")\n",
        "print(f\"steps taken : {steps}\")\n",
        "print(f\"\\nObjective function value = {round(function(x0,y0))}\")"
      ],
      "execution_count": 21,
      "outputs": [
        {
          "output_type": "stream",
          "name": "stdout",
          "text": [
            "\n",
            "initial values of x and y are:\n",
            "x = 5.496348326794013\n",
            "y = 0.46049625421268336\n",
            "\n",
            "\n",
            "The local minimum point/ global minimum occurs at:\n",
            "x = 0\n",
            "y = 5\n",
            "\n",
            "steps taken : 1000\n",
            "\n",
            "Objective function value = 10\n"
          ]
        }
      ]
    }
  ]
}