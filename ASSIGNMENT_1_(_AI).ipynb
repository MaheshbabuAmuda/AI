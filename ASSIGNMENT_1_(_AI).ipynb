{
  "nbformat": 4,
  "nbformat_minor": 0,
  "metadata": {
    "colab": {
      "name": "ASSIGNMENT-1 ( AI).ipynb",
      "provenance": [],
      "authorship_tag": "ABX9TyNCdhgO90Fak022JFQYSbxr",
      "include_colab_link": true
    },
    "kernelspec": {
      "name": "python3",
      "display_name": "Python 3"
    },
    "language_info": {
      "name": "python"
    }
  },
  "cells": [
    {
      "cell_type": "markdown",
      "metadata": {
        "id": "view-in-github",
        "colab_type": "text"
      },
      "source": [
        "<a href=\"https://colab.research.google.com/github/MaheshbabuAmuda/AI/blob/main/ASSIGNMENT_1_(_AI).ipynb\" target=\"_parent\"><img src=\"https://colab.research.google.com/assets/colab-badge.svg\" alt=\"Open In Colab\"/></a>"
      ]
    },
    {
      "cell_type": "markdown",
      "metadata": {
        "id": "4RLKD80OmJKT"
      },
      "source": [
        "\n",
        "QUE:-  \n",
        "\n",
        " A farmer has recently acquired a 110 hectares piece of land. He has\n",
        "decided to grow Wheat and barley on that land. Due to the quality\n",
        "of the sun and the region’s excellent climate, the entire production of\n",
        "Wheat and Barley can be sold. He wants to know how to plant each\n",
        "variety in the 110 hectares, given the costs, net profits and labor\n",
        "requirements according to the data shown\n",
        "\n",
        "| Crop   | Cost (Rs/Hec) | Profit (Price / Hec) | Man-days |\n",
        "|--------|---------------|----------------------|----------|\n",
        "| Wheat  | 7000          | 50                   | 10       |\n",
        "| Barley | 2000          | 120                  | 30       |\n",
        "\n",
        "The farmer has a budget of Rs. 7,00,000 and availability of 1,200\n",
        "man-days during the planning horizon. Find the optimal solution and\n",
        "the optimal value.  \n",
        "## Objective Function:  \n",
        "### Maximize  \n",
        "${50x + 120y}$ \n",
        "## Inequal Constraints:\n",
        "\n",
        "${10x + 30y}  \\leq  1200$  \n",
        "${7000x + 2000y}  \\leq  700000$  \n",
        "${x + y}  \\leq  110 $\n",
        "### Boundaries:-\n",
        "${x,y} \\geq 0$\n"
      ]
    },
    {
      "cell_type": "code",
      "metadata": {
        "colab": {
          "base_uri": "https://localhost:8080/"
        },
        "id": "Nb-1seTeKQjc",
        "outputId": "c9fe95e0-0bb6-42af-deb9-a27956003ace"
      },
      "source": [
        "from scipy. optimize import linprog\n",
        "pyth = [-50,-120]\n",
        "    # Objective Function Matix\n",
        "X_ieq = [[10,30],[7000,2000],[1,1]]\n",
        "    # Inequality Constraints Coeff. Matrix \n",
        "Y_ieq = [1200,700000,110] \n",
        "    # Inequality Constraints Cont. Matrix  \n",
        "boundary = [(0,float('inf')),(0,float('inf'))]   # Boundaries\n",
        "cptl = linprog(c=pyth, A_ub=X_ieq, b_ub=Y_ieq, bounds=boundary, method=\"simplex\" )\n",
        "print(\"Wheat-\",round(cptl.x[0]), \"Hectares\")\n",
        "print(\"Barley-\",round(cptl.x[1]), \"Hectares\")\n",
        "\n"
      ],
      "execution_count": 13,
      "outputs": [
        {
          "output_type": "stream",
          "text": [
            "Wheat- 98 Hectares\n",
            "Barley- 7 Hectares\n"
          ],
          "name": "stdout"
        }
      ]
    },
    {
      "cell_type": "code",
      "metadata": {
        "id": "BniGQhuULbPW"
      },
      "source": [
        ""
      ],
      "execution_count": null,
      "outputs": []
    }
  ]
}